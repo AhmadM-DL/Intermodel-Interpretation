{
 "cells": [
  {
   "cell_type": "code",
   "execution_count": 1,
   "metadata": {},
   "outputs": [],
   "source": [
    "import pandas as pd\n",
    "import numpy as np"
   ]
  },
  {
   "cell_type": "markdown",
   "metadata": {},
   "source": [
    "# Load and Preprocess Data"
   ]
  },
  {
   "cell_type": "code",
   "execution_count": 13,
   "metadata": {},
   "outputs": [
    {
     "data": {
      "text/html": [
       "<div>\n",
       "<style scoped>\n",
       "    .dataframe tbody tr th:only-of-type {\n",
       "        vertical-align: middle;\n",
       "    }\n",
       "\n",
       "    .dataframe tbody tr th {\n",
       "        vertical-align: top;\n",
       "    }\n",
       "\n",
       "    .dataframe thead th {\n",
       "        text-align: right;\n",
       "    }\n",
       "</style>\n",
       "<table border=\"1\" class=\"dataframe\">\n",
       "  <thead>\n",
       "    <tr style=\"text-align: right;\">\n",
       "      <th></th>\n",
       "      <th>model</th>\n",
       "      <th>dt_ImageNet</th>\n",
       "      <th>dt_Aircraft</th>\n",
       "      <th>dt_Caltech101</th>\n",
       "      <th>dt_Cars</th>\n",
       "      <th>dt_CIFAR10</th>\n",
       "      <th>dt_CIFAR100</th>\n",
       "      <th>dt_DTD</th>\n",
       "      <th>dt_Flowers</th>\n",
       "      <th>dt_Food</th>\n",
       "      <th>...</th>\n",
       "      <th>CropDiseases_20_shot</th>\n",
       "      <th>CropDiseases_50_shot</th>\n",
       "      <th>EuroSAT_5_shot</th>\n",
       "      <th>EuroSAT_20_shot</th>\n",
       "      <th>EuroSAT_50_shot</th>\n",
       "      <th>sne_Mean</th>\n",
       "      <th>sne_Median</th>\n",
       "      <th>sne_11.25</th>\n",
       "      <th>sne_22.5</th>\n",
       "      <th>sne_30</th>\n",
       "    </tr>\n",
       "  </thead>\n",
       "  <tbody>\n",
       "    <tr>\n",
       "      <th>0</th>\n",
       "      <td>InsDis(R)</td>\n",
       "      <td>59.5</td>\n",
       "      <td>36.88</td>\n",
       "      <td>71.55</td>\n",
       "      <td>30.49</td>\n",
       "      <td>80.57</td>\n",
       "      <td>59.87</td>\n",
       "      <td>68.24</td>\n",
       "      <td>83.17</td>\n",
       "      <td>63.45</td>\n",
       "      <td>...</td>\n",
       "      <td>91.95</td>\n",
       "      <td>92.70</td>\n",
       "      <td>81.29</td>\n",
       "      <td>86.52</td>\n",
       "      <td>88.25</td>\n",
       "      <td>32.99</td>\n",
       "      <td>27.35</td>\n",
       "      <td>23.58</td>\n",
       "      <td>43.02</td>\n",
       "      <td>53.51</td>\n",
       "    </tr>\n",
       "    <tr>\n",
       "      <th>1</th>\n",
       "      <td>MoCoV1(R)</td>\n",
       "      <td>60.6</td>\n",
       "      <td>36.19</td>\n",
       "      <td>75.37</td>\n",
       "      <td>31.29</td>\n",
       "      <td>80.21</td>\n",
       "      <td>57.70</td>\n",
       "      <td>68.67</td>\n",
       "      <td>82.04</td>\n",
       "      <td>61.50</td>\n",
       "      <td>...</td>\n",
       "      <td>92.04</td>\n",
       "      <td>92.87</td>\n",
       "      <td>81.32</td>\n",
       "      <td>86.55</td>\n",
       "      <td>87.72</td>\n",
       "      <td>33.69</td>\n",
       "      <td>28.63</td>\n",
       "      <td>21.51</td>\n",
       "      <td>41.07</td>\n",
       "      <td>51.87</td>\n",
       "    </tr>\n",
       "    <tr>\n",
       "      <th>2</th>\n",
       "      <td>PCLV1(R)</td>\n",
       "      <td>61.5</td>\n",
       "      <td>22.93</td>\n",
       "      <td>77.74</td>\n",
       "      <td>12.51</td>\n",
       "      <td>82.03</td>\n",
       "      <td>55.88</td>\n",
       "      <td>62.82</td>\n",
       "      <td>64.95</td>\n",
       "      <td>47.85</td>\n",
       "      <td>...</td>\n",
       "      <td>80.74</td>\n",
       "      <td>82.83</td>\n",
       "      <td>66.56</td>\n",
       "      <td>75.19</td>\n",
       "      <td>76.41</td>\n",
       "      <td>37.90</td>\n",
       "      <td>33.58</td>\n",
       "      <td>16.73</td>\n",
       "      <td>34.96</td>\n",
       "      <td>45.43</td>\n",
       "    </tr>\n",
       "    <tr>\n",
       "      <th>3</th>\n",
       "      <td>PIRL(R)</td>\n",
       "      <td>61.7</td>\n",
       "      <td>37.67</td>\n",
       "      <td>74.37</td>\n",
       "      <td>30.48</td>\n",
       "      <td>82.65</td>\n",
       "      <td>61.25</td>\n",
       "      <td>68.88</td>\n",
       "      <td>84.74</td>\n",
       "      <td>64.64</td>\n",
       "      <td>...</td>\n",
       "      <td>91.19</td>\n",
       "      <td>92.18</td>\n",
       "      <td>82.14</td>\n",
       "      <td>87.06</td>\n",
       "      <td>88.55</td>\n",
       "      <td>33.16</td>\n",
       "      <td>27.66</td>\n",
       "      <td>22.24</td>\n",
       "      <td>42.41</td>\n",
       "      <td>53.12</td>\n",
       "    </tr>\n",
       "    <tr>\n",
       "      <th>4</th>\n",
       "      <td>PCLV2(R)</td>\n",
       "      <td>67.6</td>\n",
       "      <td>36.78</td>\n",
       "      <td>86.21</td>\n",
       "      <td>30.83</td>\n",
       "      <td>91.93</td>\n",
       "      <td>73.58</td>\n",
       "      <td>70.64</td>\n",
       "      <td>85.21</td>\n",
       "      <td>64.84</td>\n",
       "      <td>...</td>\n",
       "      <td>92.58</td>\n",
       "      <td>93.57</td>\n",
       "      <td>81.10</td>\n",
       "      <td>87.94</td>\n",
       "      <td>89.23</td>\n",
       "      <td>33.98</td>\n",
       "      <td>28.67</td>\n",
       "      <td>21.95</td>\n",
       "      <td>41.21</td>\n",
       "      <td>51.76</td>\n",
       "    </tr>\n",
       "  </tbody>\n",
       "</table>\n",
       "<p>5 rows × 37 columns</p>\n",
       "</div>"
      ],
      "text/plain": [
       "       model  dt_ImageNet  dt_Aircraft  dt_Caltech101  dt_Cars  dt_CIFAR10  \\\n",
       "0  InsDis(R)         59.5        36.88          71.55    30.49       80.57   \n",
       "1  MoCoV1(R)         60.6        36.19          75.37    31.29       80.21   \n",
       "2   PCLV1(R)         61.5        22.93          77.74    12.51       82.03   \n",
       "3    PIRL(R)         61.7        37.67          74.37    30.48       82.65   \n",
       "4   PCLV2(R)         67.6        36.78          86.21    30.83       91.93   \n",
       "\n",
       "   dt_CIFAR100  dt_DTD  dt_Flowers  dt_Food  ...  CropDiseases_20_shot  \\\n",
       "0        59.87   68.24       83.17    63.45  ...                 91.95   \n",
       "1        57.70   68.67       82.04    61.50  ...                 92.04   \n",
       "2        55.88   62.82       64.95    47.85  ...                 80.74   \n",
       "3        61.25   68.88       84.74    64.64  ...                 91.19   \n",
       "4        73.58   70.64       85.21    64.84  ...                 92.58   \n",
       "\n",
       "   CropDiseases_50_shot  EuroSAT_5_shot  EuroSAT_20_shot  EuroSAT_50_shot  \\\n",
       "0                 92.70           81.29            86.52            88.25   \n",
       "1                 92.87           81.32            86.55            87.72   \n",
       "2                 82.83           66.56            75.19            76.41   \n",
       "3                 92.18           82.14            87.06            88.55   \n",
       "4                 93.57           81.10            87.94            89.23   \n",
       "\n",
       "   sne_Mean  sne_Median  sne_11.25  sne_22.5  sne_30  \n",
       "0     32.99       27.35      23.58     43.02   53.51  \n",
       "1     33.69       28.63      21.51     41.07   51.87  \n",
       "2     37.90       33.58      16.73     34.96   45.43  \n",
       "3     33.16       27.66      22.24     42.41   53.12  \n",
       "4     33.98       28.67      21.95     41.21   51.76  \n",
       "\n",
       "[5 rows x 37 columns]"
      ]
     },
     "execution_count": 13,
     "metadata": {},
     "output_type": "execute_result"
    }
   ],
   "source": [
    "# Load Perfomrance Data\n",
    "performance_data = pd.read_csv(\"../Data/models_performance_on_tasks.csv\")\n",
    "# Drop useless columns\n",
    "performance_data.drop([c for c in performance_data.columns if \"Unnamed\" in c], inplace=True, axis=1)\n",
    "performance_data.head()"
   ]
  },
  {
   "cell_type": "code",
   "execution_count": 2,
   "metadata": {},
   "outputs": [],
   "source": [
    "# Load Dissect Profile Data\n",
    "raw_data = pd.read_csv(\"../Data/models_dissect_profiles.csv\")\n",
    "# Remove results with \"-\" label as they correspond to background (pixles with no class)\n",
    "raw_data = raw_data[raw_data[\"label\"] != \"-\"]\n",
    "# Remove untis with class matching less than 0.04 iou (as par Dissect authors)\n",
    "raw_data = raw_data[raw_data[\"iou\"]>0.04]"
   ]
  },
  {
   "cell_type": "code",
   "execution_count": 82,
   "metadata": {},
   "outputs": [
    {
     "data": {
      "text/html": [
       "<div>\n",
       "<style scoped>\n",
       "    .dataframe tbody tr th:only-of-type {\n",
       "        vertical-align: middle;\n",
       "    }\n",
       "\n",
       "    .dataframe tbody tr th {\n",
       "        vertical-align: top;\n",
       "    }\n",
       "\n",
       "    .dataframe thead th {\n",
       "        text-align: right;\n",
       "    }\n",
       "</style>\n",
       "<table border=\"1\" class=\"dataframe\">\n",
       "  <thead>\n",
       "    <tr style=\"text-align: right;\">\n",
       "      <th></th>\n",
       "      <th>c_black</th>\n",
       "      <th>c_blue</th>\n",
       "      <th>c_orange</th>\n",
       "      <th>c_pink</th>\n",
       "      <th>c_purple</th>\n",
       "      <th>c_red</th>\n",
       "      <th>c_white</th>\n",
       "      <th>c_yellow</th>\n",
       "      <th>m_brick</th>\n",
       "      <th>m_carpet</th>\n",
       "      <th>...</th>\n",
       "      <th>p_tree-b</th>\n",
       "      <th>p_tree-r</th>\n",
       "      <th>p_tree-t</th>\n",
       "      <th>p_wall-b</th>\n",
       "      <th>p_wall-l</th>\n",
       "      <th>p_wall-r</th>\n",
       "      <th>p_wall-t</th>\n",
       "      <th>p_water-b</th>\n",
       "      <th>p_water-t</th>\n",
       "      <th>p_window-b</th>\n",
       "    </tr>\n",
       "    <tr>\n",
       "      <th>name</th>\n",
       "      <th></th>\n",
       "      <th></th>\n",
       "      <th></th>\n",
       "      <th></th>\n",
       "      <th></th>\n",
       "      <th></th>\n",
       "      <th></th>\n",
       "      <th></th>\n",
       "      <th></th>\n",
       "      <th></th>\n",
       "      <th></th>\n",
       "      <th></th>\n",
       "      <th></th>\n",
       "      <th></th>\n",
       "      <th></th>\n",
       "      <th></th>\n",
       "      <th></th>\n",
       "      <th></th>\n",
       "      <th></th>\n",
       "      <th></th>\n",
       "      <th></th>\n",
       "    </tr>\n",
       "  </thead>\n",
       "  <tbody>\n",
       "    <tr>\n",
       "      <th>BYOL(R)</th>\n",
       "      <td>0.000</td>\n",
       "      <td>0.125</td>\n",
       "      <td>0.250</td>\n",
       "      <td>0.000</td>\n",
       "      <td>0.125</td>\n",
       "      <td>0.50</td>\n",
       "      <td>0.125</td>\n",
       "      <td>0.00</td>\n",
       "      <td>0.1250</td>\n",
       "      <td>0.3750</td>\n",
       "      <td>...</td>\n",
       "      <td>0.166667</td>\n",
       "      <td>0.166667</td>\n",
       "      <td>0.055556</td>\n",
       "      <td>0.055556</td>\n",
       "      <td>0.0</td>\n",
       "      <td>0.000000</td>\n",
       "      <td>0.037037</td>\n",
       "      <td>0.018519</td>\n",
       "      <td>0.018519</td>\n",
       "      <td>0.018519</td>\n",
       "    </tr>\n",
       "    <tr>\n",
       "      <th>DeepClusterV2(R)</th>\n",
       "      <td>0.000</td>\n",
       "      <td>0.250</td>\n",
       "      <td>0.375</td>\n",
       "      <td>0.125</td>\n",
       "      <td>0.125</td>\n",
       "      <td>0.75</td>\n",
       "      <td>0.125</td>\n",
       "      <td>0.00</td>\n",
       "      <td>0.1875</td>\n",
       "      <td>0.1875</td>\n",
       "      <td>...</td>\n",
       "      <td>0.092593</td>\n",
       "      <td>0.000000</td>\n",
       "      <td>0.129630</td>\n",
       "      <td>0.018519</td>\n",
       "      <td>0.0</td>\n",
       "      <td>0.000000</td>\n",
       "      <td>0.055556</td>\n",
       "      <td>0.018519</td>\n",
       "      <td>0.000000</td>\n",
       "      <td>0.018519</td>\n",
       "    </tr>\n",
       "    <tr>\n",
       "      <th>InfoMin(R)</th>\n",
       "      <td>0.125</td>\n",
       "      <td>0.000</td>\n",
       "      <td>0.000</td>\n",
       "      <td>0.000</td>\n",
       "      <td>0.000</td>\n",
       "      <td>0.00</td>\n",
       "      <td>0.000</td>\n",
       "      <td>0.00</td>\n",
       "      <td>0.1250</td>\n",
       "      <td>0.1875</td>\n",
       "      <td>...</td>\n",
       "      <td>0.166667</td>\n",
       "      <td>0.000000</td>\n",
       "      <td>0.111111</td>\n",
       "      <td>0.055556</td>\n",
       "      <td>0.0</td>\n",
       "      <td>0.000000</td>\n",
       "      <td>0.018519</td>\n",
       "      <td>0.000000</td>\n",
       "      <td>0.018519</td>\n",
       "      <td>0.037037</td>\n",
       "    </tr>\n",
       "    <tr>\n",
       "      <th>InsDis(R)</th>\n",
       "      <td>0.250</td>\n",
       "      <td>0.000</td>\n",
       "      <td>1.250</td>\n",
       "      <td>0.000</td>\n",
       "      <td>0.000</td>\n",
       "      <td>0.75</td>\n",
       "      <td>0.875</td>\n",
       "      <td>0.25</td>\n",
       "      <td>0.1875</td>\n",
       "      <td>0.3750</td>\n",
       "      <td>...</td>\n",
       "      <td>0.388889</td>\n",
       "      <td>0.222222</td>\n",
       "      <td>0.018519</td>\n",
       "      <td>0.092593</td>\n",
       "      <td>0.0</td>\n",
       "      <td>0.000000</td>\n",
       "      <td>0.018519</td>\n",
       "      <td>0.000000</td>\n",
       "      <td>0.055556</td>\n",
       "      <td>0.000000</td>\n",
       "    </tr>\n",
       "    <tr>\n",
       "      <th>MoCoV1(R)</th>\n",
       "      <td>0.125</td>\n",
       "      <td>0.000</td>\n",
       "      <td>0.000</td>\n",
       "      <td>0.000</td>\n",
       "      <td>0.000</td>\n",
       "      <td>0.00</td>\n",
       "      <td>0.000</td>\n",
       "      <td>0.00</td>\n",
       "      <td>0.1250</td>\n",
       "      <td>0.1875</td>\n",
       "      <td>...</td>\n",
       "      <td>0.351852</td>\n",
       "      <td>0.074074</td>\n",
       "      <td>0.000000</td>\n",
       "      <td>0.166667</td>\n",
       "      <td>0.0</td>\n",
       "      <td>0.018519</td>\n",
       "      <td>0.000000</td>\n",
       "      <td>0.018519</td>\n",
       "      <td>0.018519</td>\n",
       "      <td>0.037037</td>\n",
       "    </tr>\n",
       "  </tbody>\n",
       "</table>\n",
       "<p>5 rows × 145 columns</p>\n",
       "</div>"
      ],
      "text/plain": [
       "                  c_black  c_blue  c_orange  c_pink  c_purple  c_red  c_white  \\\n",
       "name                                                                            \n",
       "BYOL(R)             0.000   0.125     0.250   0.000     0.125   0.50    0.125   \n",
       "DeepClusterV2(R)    0.000   0.250     0.375   0.125     0.125   0.75    0.125   \n",
       "InfoMin(R)          0.125   0.000     0.000   0.000     0.000   0.00    0.000   \n",
       "InsDis(R)           0.250   0.000     1.250   0.000     0.000   0.75    0.875   \n",
       "MoCoV1(R)           0.125   0.000     0.000   0.000     0.000   0.00    0.000   \n",
       "\n",
       "                  c_yellow  m_brick  m_carpet  ...  p_tree-b  p_tree-r  \\\n",
       "name                                           ...                       \n",
       "BYOL(R)               0.00   0.1250    0.3750  ...  0.166667  0.166667   \n",
       "DeepClusterV2(R)      0.00   0.1875    0.1875  ...  0.092593  0.000000   \n",
       "InfoMin(R)            0.00   0.1250    0.1875  ...  0.166667  0.000000   \n",
       "InsDis(R)             0.25   0.1875    0.3750  ...  0.388889  0.222222   \n",
       "MoCoV1(R)             0.00   0.1250    0.1875  ...  0.351852  0.074074   \n",
       "\n",
       "                  p_tree-t  p_wall-b  p_wall-l  p_wall-r  p_wall-t  p_water-b  \\\n",
       "name                                                                            \n",
       "BYOL(R)           0.055556  0.055556       0.0  0.000000  0.037037   0.018519   \n",
       "DeepClusterV2(R)  0.129630  0.018519       0.0  0.000000  0.055556   0.018519   \n",
       "InfoMin(R)        0.111111  0.055556       0.0  0.000000  0.018519   0.000000   \n",
       "InsDis(R)         0.018519  0.092593       0.0  0.000000  0.018519   0.000000   \n",
       "MoCoV1(R)         0.000000  0.166667       0.0  0.018519  0.000000   0.018519   \n",
       "\n",
       "                  p_water-t  p_window-b  \n",
       "name                                     \n",
       "BYOL(R)            0.018519    0.018519  \n",
       "DeepClusterV2(R)   0.000000    0.018519  \n",
       "InfoMin(R)         0.018519    0.037037  \n",
       "InsDis(R)          0.055556    0.000000  \n",
       "MoCoV1(R)          0.018519    0.037037  \n",
       "\n",
       "[5 rows x 145 columns]"
      ]
     },
     "execution_count": 82,
     "metadata": {},
     "output_type": "execute_result"
    }
   ],
   "source": [
    "# Normalize Profile Values\n",
    "\n",
    "# unique concepts\n",
    "#66 object\n",
    "u_objects, objects_counts = np.unique(raw_data[raw_data[\"category\"]==\"object\"][\"label\"], return_counts=True)\n",
    "#52 part\n",
    "u_parts, parts_counts = np.unique(raw_data[raw_data[\"category\"]==\"part\"][\"label\"], return_counts=True)\n",
    "#15 material\n",
    "u_materials, materials_counts = np.unique(raw_data[raw_data[\"category\"]==\"material\"][\"label\"], return_counts=True)\n",
    "#8 color\n",
    "u_colors, colors_counts = np.unique(raw_data[raw_data[\"category\"]==\"color\"][\"label\"], return_counts=True)\n",
    "\n",
    "# Count number of unites matched to each concept\n",
    "aggregation = raw_data.groupby([\"name\",\"label\", \"category\"], as_index=False).agg({\"iou\": [\"count\"]})\n",
    "aggregation.columns = [\"name\", \"label\", \"category\", \"count\"]\n",
    "\n",
    "# Rename labeks based on category\n",
    "aggregation.loc[ aggregation[\"category\"]==\"object\" , \"label\"] = \"o_\" + aggregation.loc[ aggregation[\"category\"]==\"object\" , \"label\"] \n",
    "aggregation.loc[ aggregation[\"category\"]==\"part\" , \"label\"] = \"p_\" + aggregation.loc[ aggregation[\"category\"]==\"part\" , \"label\"] \n",
    "aggregation.loc[ aggregation[\"category\"]==\"material\" , \"label\"] = \"m_\" + aggregation.loc[ aggregation[\"category\"]==\"material\" , \"label\"] \n",
    "aggregation.loc[ aggregation[\"category\"]==\"color\" , \"label\"] = \"c_\" + aggregation.loc[ aggregation[\"category\"]==\"color\" , \"label\"] \n",
    "\n",
    "# Normalize counts by the total number of found matches for each category\n",
    "aggregation[\"count\"]  = aggregation[\"count\"] / (aggregation[\"category\"]==\"object\").map(lambda x: len(u_objects) if x else 1)\n",
    "aggregation[\"count\"]  = aggregation[\"count\"] / (aggregation[\"category\"]==\"material\").map(lambda x: len(u_materials) if x else 1)\n",
    "aggregation[\"count\"]  = aggregation[\"count\"] / (aggregation[\"category\"]==\"part\").map(lambda x: len(u_parts) if x else 1)\n",
    "aggregation[\"count\"]  = aggregation[\"count\"] / (aggregation[\"category\"]==\"color\").map(lambda x: len(u_colors) if x else 1)\n",
    "\n",
    "# Reshape data as a vector of found concepts for each model\n",
    "aggregation = aggregation.pivot(index='name', columns='label')[\"count\"]\n",
    "dissect_profiles = pd.DataFrame(aggregation.values, columns = aggregation.keys().tolist(), index=aggregation.index)\n",
    "dissect_profiles.reset_index()\n",
    "dissect_profiles.fillna(0, inplace=True)\n",
    "\n",
    "# Show first five columne\n",
    "dissect_profiles.head()"
   ]
  },
  {
   "cell_type": "code",
   "execution_count": 83,
   "metadata": {},
   "outputs": [
    {
     "data": {
      "text/html": [
       "<div>\n",
       "<style scoped>\n",
       "    .dataframe tbody tr th:only-of-type {\n",
       "        vertical-align: middle;\n",
       "    }\n",
       "\n",
       "    .dataframe tbody tr th {\n",
       "        vertical-align: top;\n",
       "    }\n",
       "\n",
       "    .dataframe thead th {\n",
       "        text-align: right;\n",
       "    }\n",
       "</style>\n",
       "<table border=\"1\" class=\"dataframe\">\n",
       "  <thead>\n",
       "    <tr style=\"text-align: right;\">\n",
       "      <th></th>\n",
       "      <th>color count</th>\n",
       "      <th>color nunique</th>\n",
       "      <th>material count</th>\n",
       "      <th>material nunique</th>\n",
       "      <th>object count</th>\n",
       "      <th>object nunique</th>\n",
       "      <th>part count</th>\n",
       "      <th>part nunique</th>\n",
       "    </tr>\n",
       "    <tr>\n",
       "      <th>name</th>\n",
       "      <th></th>\n",
       "      <th></th>\n",
       "      <th></th>\n",
       "      <th></th>\n",
       "      <th></th>\n",
       "      <th></th>\n",
       "      <th></th>\n",
       "      <th></th>\n",
       "    </tr>\n",
       "  </thead>\n",
       "  <tbody>\n",
       "    <tr>\n",
       "      <th>BYOL(R)</th>\n",
       "      <td>9</td>\n",
       "      <td>5</td>\n",
       "      <td>43</td>\n",
       "      <td>11</td>\n",
       "      <td>231</td>\n",
       "      <td>42</td>\n",
       "      <td>368</td>\n",
       "      <td>35</td>\n",
       "    </tr>\n",
       "    <tr>\n",
       "      <th>DeepClusterV2(R)</th>\n",
       "      <td>14</td>\n",
       "      <td>6</td>\n",
       "      <td>37</td>\n",
       "      <td>10</td>\n",
       "      <td>275</td>\n",
       "      <td>47</td>\n",
       "      <td>259</td>\n",
       "      <td>29</td>\n",
       "    </tr>\n",
       "    <tr>\n",
       "      <th>InfoMin(R)</th>\n",
       "      <td>1</td>\n",
       "      <td>1</td>\n",
       "      <td>121</td>\n",
       "      <td>12</td>\n",
       "      <td>876</td>\n",
       "      <td>55</td>\n",
       "      <td>346</td>\n",
       "      <td>29</td>\n",
       "    </tr>\n",
       "    <tr>\n",
       "      <th>InsDis(R)</th>\n",
       "      <td>27</td>\n",
       "      <td>5</td>\n",
       "      <td>161</td>\n",
       "      <td>10</td>\n",
       "      <td>334</td>\n",
       "      <td>39</td>\n",
       "      <td>389</td>\n",
       "      <td>31</td>\n",
       "    </tr>\n",
       "    <tr>\n",
       "      <th>MoCoV1(R)</th>\n",
       "      <td>1</td>\n",
       "      <td>1</td>\n",
       "      <td>220</td>\n",
       "      <td>11</td>\n",
       "      <td>454</td>\n",
       "      <td>44</td>\n",
       "      <td>371</td>\n",
       "      <td>34</td>\n",
       "    </tr>\n",
       "  </tbody>\n",
       "</table>\n",
       "</div>"
      ],
      "text/plain": [
       "                  color count  color nunique  material count  \\\n",
       "name                                                           \n",
       "BYOL(R)                     9              5              43   \n",
       "DeepClusterV2(R)           14              6              37   \n",
       "InfoMin(R)                  1              1             121   \n",
       "InsDis(R)                  27              5             161   \n",
       "MoCoV1(R)                   1              1             220   \n",
       "\n",
       "                  material nunique  object count  object nunique  part count  \\\n",
       "name                                                                           \n",
       "BYOL(R)                         11           231              42         368   \n",
       "DeepClusterV2(R)                10           275              47         259   \n",
       "InfoMin(R)                      12           876              55         346   \n",
       "InsDis(R)                       10           334              39         389   \n",
       "MoCoV1(R)                       11           454              44         371   \n",
       "\n",
       "                  part nunique  \n",
       "name                            \n",
       "BYOL(R)                     35  \n",
       "DeepClusterV2(R)            29  \n",
       "InfoMin(R)                  29  \n",
       "InsDis(R)                   31  \n",
       "MoCoV1(R)                   34  "
      ]
     },
     "execution_count": 83,
     "metadata": {},
     "output_type": "execute_result"
    }
   ],
   "source": [
    "# Generate Abstracted Profile\n",
    "dissect_abstract_profiles = raw_data[[\"name\", \"category\", \"label\"]].copy()\n",
    "dissect_abstract_profiles = dissect_abstract_profiles.pivot(columns=\"category\", values=\"label\").replace('.*R.*', '1', regex=True)\n",
    "dissect_abstract_profiles = pd.concat([raw_data[[\"name\"]],dissect_abstract_profiles], axis=1)\n",
    "dissect_abstract_profiles = dissect_abstract_profiles.groupby(\"name\").agg([\"count\", \"nunique\"])#.reset_index()\n",
    "dissect_abstract_profiles.columns = [' '.join(col).strip() for col in dissect_abstract_profiles.columns]\n",
    "dissect_abstract_profiles.head()"
   ]
  },
  {
   "cell_type": "code",
   "execution_count": 4,
   "metadata": {},
   "outputs": [
    {
     "data": {
      "image/png": "[encoded data removed]",
      "text/plain": [
       "<Figure size 432x288 with 1 Axes>"
      ]
     },
     "metadata": {
      "needs_background": "light"
     },
     "output_type": "display_data"
    }
   ],
   "source": [
    "# Finding the best number of cluster for dissect profiles\n",
    "\n",
    "# Imports\n",
    "from sklearn.cluster import KMeans\n",
    "import matplotlib.pyplot as plt\n",
    "\n",
    "# Remove models that doesn't have performance data (Custom SwAVs) or have a very weak dissect profile (SimCLR+Random)\n",
    "remove = [\"SimCLRV1(R)\", \"SimCLRV2(R)\", \"Random(R)\", \"SwAV200(R)\", \"SwAV400(R)\", \"SwAV200bs256(R)\", \"SwAV400_2x244(R)\"]\n",
    "f_s_data = norm_semantic_data[~norm_semantic_data.index.isin(remove)].iloc[:,1:]\n",
    "inertias = []\n",
    "\n",
    "assignments = []\n",
    "K = range(1,11)\n",
    "\n",
    "for k in K:\n",
    "    kmeanModel = KMeans(n_clusters=k)\n",
    "    kmeanModel.fit(f_s_data)\n",
    "    if k==3:\n",
    "      assignments = kmeanModel.labels_\n",
    "    inertias.append(kmeanModel.inertia_)\n",
    "\n",
    "plt.plot(K, inertias, 'bx-')\n",
    "plt.xlabel('Number of Clusters')\n",
    "plt.ylabel('Inertia')\n",
    "plt.title('The Elbow Method to Decide Number of Clusters')\n",
    "plt.xticks(K, K)\n",
    "plt.show()"
   ]
  },
  {
   "cell_type": "markdown",
   "metadata": {},
   "source": [
    "# Embedding Visualizations"
   ]
  },
  {
   "cell_type": "code",
   "execution_count": null,
   "metadata": {},
   "outputs": [],
   "source": [
    "# Apply PCA to embed the models into a low dimensional space based on found concepts in eahc model\n",
    "\n",
    "# Imports\n",
    "from sklearn.decomposition import PCA\n",
    "\n",
    "# Remove models that doesn't have performance data (Custom SwAVs) or have a very weak dissect profile (SimCLR+Random)\n",
    "remove = [\"SimCLRV1(R)\", \"SimCLRV2(R)\", \"Random(R)\", \"SwAV200(R)\", \"SwAV400(R)\", \"SwAV200bs256(R)\", \"SwAV400_2x244(R)\"]\n",
    "f_s_data = norm_semantic_data[~norm_semantic_data.index.isin(remove)].iloc[:,1:]\n",
    "\n",
    "pca = PCA(n_components=3)\n",
    "components = pca.fit_transform(f_s_data)\n",
    "pca1 = [ v for (v, _, _) in components]\n",
    "pca2 = [ v for (_, v, _) in components]\n",
    "pca3 = [ v for (_, _, v) in components]\n",
    "components = pd.DataFrame(components, columns=[\"pca1\", \"pca2\", \"pca3\"])\n",
    "components[\"model\"] = [l for l in f_s_data.index ]"
   ]
  },
  {
   "cell_type": "code",
   "execution_count": 5,
   "metadata": {},
   "outputs": [
    {
     "data": {
      "application/vnd.plotly.v1+json": {
       "config": {
        "plotlyServerURL": "https://plot.ly"
       },
       "data": [
        {
         "hovertemplate": "model=BYOL(R)<br>pca1=%{x}<br>pca2=%{y}<br>pca3=%{z}<extra></extra>",
         "legendgroup": "BYOL(R)",
         "marker": {
          "color": "#636efa",
          "symbol": "circle"
         },
         "mode": "markers",
         "name": "BYOL(R)",
         "scene": "scene",
         "showlegend": true,
         "type": "scatter3d",
         "x": [
          -1.9823771750653945
         ],
         "y": [
          -1.0074317292499901
         ],
         "z": [
          -0.20768904262652746
         ]
        },
        {
         "hovertemplate": "model=DeepClusterV2(R)<br>pca1=%{x}<br>pca2=%{y}<br>pca3=%{z}<extra></extra>",
         "legendgroup": "DeepClusterV2(R)",
         "marker": {
          "color": "#EF553B",
          "symbol": "circle"
         },
         "mode": "markers",
         "name": "DeepClusterV2(R)",
         "scene": "scene",
         "showlegend": true,
         "type": "scatter3d",
         "x": [
          -2.420319980738096
         ],
         "y": [
          -1.2686681648285347
         ],
         "z": [
          -0.02737752428324116
         ]
        },
        {
         "hovertemplate": "model=InfoMin(R)<br>pca1=%{x}<br>pca2=%{y}<br>pca3=%{z}<extra></extra>",
         "legendgroup": "InfoMin(R)",
         "marker": {
          "color": "#00cc96",
          "symbol": "circle"
         },
         "mode": "markers",
         "name": "InfoMin(R)",
         "scene": "scene",
         "showlegend": true,
         "type": "scatter3d",
         "x": [
          0.10738114234124682
         ],
         "y": [
          1.970700564713425
         ],
         "z": [
          1.8904651785997804
         ]
        },
        {
         "hovertemplate": "model=InsDis(R)<br>pca1=%{x}<br>pca2=%{y}<br>pca3=%{z}<extra></extra>",
         "legendgroup": "InsDis(R)",
         "marker": {
          "color": "#ab63fa",
          "symbol": "circle"
         },
         "mode": "markers",
         "name": "InsDis(R)",
         "scene": "scene",
         "showlegend": true,
         "type": "scatter3d",
         "x": [
          2.6242245079792292
         ],
         "y": [
          -1.2670497939067784
         ],
         "z": [
          -0.26836073348051054
         ]
        },
        {
         "hovertemplate": "model=MoCoV1(R)<br>pca1=%{x}<br>pca2=%{y}<br>pca3=%{z}<extra></extra>",
         "legendgroup": "MoCoV1(R)",
         "marker": {
          "color": "#FFA15A",
          "symbol": "circle"
         },
         "mode": "markers",
         "name": "MoCoV1(R)",
         "scene": "scene",
         "showlegend": true,
         "type": "scatter3d",
         "x": [
          4.95068134237387
         ],
         "y": [
          0.04949127804753659
         ],
         "z": [
          -0.5987536729938738
         ]
        },
        {
         "hovertemplate": "model=MoCoV2(R)<br>pca1=%{x}<br>pca2=%{y}<br>pca3=%{z}<extra></extra>",
         "legendgroup": "MoCoV2(R)",
         "marker": {
          "color": "#19d3f3",
          "symbol": "circle"
         },
         "mode": "markers",
         "name": "MoCoV2(R)",
         "scene": "scene",
         "showlegend": true,
         "type": "scatter3d",
         "x": [
          0.33635992042599494
         ],
         "y": [
          0.7667119434903865
         ],
         "z": [
          1.086400907781675
         ]
        },
        {
         "hovertemplate": "model=PCLV1(R)<br>pca1=%{x}<br>pca2=%{y}<br>pca3=%{z}<extra></extra>",
         "legendgroup": "PCLV1(R)",
         "marker": {
          "color": "#FF6692",
          "symbol": "circle"
         },
         "mode": "markers",
         "name": "PCLV1(R)",
         "scene": "scene",
         "showlegend": true,
         "type": "scatter3d",
         "x": [
          0.20539725264429162
         ],
         "y": [
          1.2989713733105728
         ],
         "z": [
          -0.9323796025789931
         ]
        },
        {
         "hovertemplate": "model=PCLV2(R)<br>pca1=%{x}<br>pca2=%{y}<br>pca3=%{z}<extra></extra>",
         "legendgroup": "PCLV2(R)",
         "marker": {
          "color": "#B6E880",
          "symbol": "circle"
         },
         "mode": "markers",
         "name": "PCLV2(R)",
         "scene": "scene",
         "showlegend": true,
         "type": "scatter3d",
         "x": [
          -1.3778092911851672
         ],
         "y": [
          0.7910406275344757
         ],
         "z": [
          0.6311564021022062
         ]
        },
        {
         "hovertemplate": "model=PIRL(R)<br>pca1=%{x}<br>pca2=%{y}<br>pca3=%{z}<extra></extra>",
         "legendgroup": "PIRL(R)",
         "marker": {
          "color": "#FF97FF",
          "symbol": "circle"
         },
         "mode": "markers",
         "name": "PIRL(R)",
         "scene": "scene",
         "showlegend": true,
         "type": "scatter3d",
         "x": [
          3.2432703354938077
         ],
         "y": [
          -1.0460263080569705
         ],
         "z": [
          0.6464012439857549
         ]
        },
        {
         "hovertemplate": "model=SeLaV1(R)<br>pca1=%{x}<br>pca2=%{y}<br>pca3=%{z}<extra></extra>",
         "legendgroup": "SeLaV1(R)",
         "marker": {
          "color": "#FECB52",
          "symbol": "circle"
         },
         "mode": "markers",
         "name": "SeLaV1(R)",
         "scene": "scene",
         "showlegend": true,
         "type": "scatter3d",
         "x": [
          -1.0354053138252903
         ],
         "y": [
          2.089991294185337
         ],
         "z": [
          -1.8269982875224715
         ]
        },
        {
         "hovertemplate": "model=SeLaV2(R)<br>pca1=%{x}<br>pca2=%{y}<br>pca3=%{z}<extra></extra>",
         "legendgroup": "SeLaV2(R)",
         "marker": {
          "color": "#636efa",
          "symbol": "circle"
         },
         "mode": "markers",
         "name": "SeLaV2(R)",
         "scene": "scene",
         "showlegend": true,
         "type": "scatter3d",
         "x": [
          -1.9438546084386938
         ],
         "y": [
          -0.6783157357619176
         ],
         "z": [
          0.016844065034998
         ]
        },
        {
         "hovertemplate": "model=Supervised(R)<br>pca1=%{x}<br>pca2=%{y}<br>pca3=%{z}<extra></extra>",
         "legendgroup": "Supervised(R)",
         "marker": {
          "color": "#EF553B",
          "symbol": "circle"
         },
         "mode": "markers",
         "name": "Supervised(R)",
         "scene": "scene",
         "showlegend": true,
         "type": "scatter3d",
         "x": [
          -0.635669465903661
         ],
         "y": [
          -0.6385487985316026
         ],
         "z": [
          -0.7805729873078401
         ]
        },
        {
         "hovertemplate": "model=SwAV(R)<br>pca1=%{x}<br>pca2=%{y}<br>pca3=%{z}<extra></extra>",
         "legendgroup": "SwAV(R)",
         "marker": {
          "color": "#00cc96",
          "symbol": "circle"
         },
         "mode": "markers",
         "name": "SwAV(R)",
         "scene": "scene",
         "showlegend": true,
         "type": "scatter3d",
         "x": [
          -2.071878666102137
         ],
         "y": [
          -1.0608665509459425
         ],
         "z": [
          0.3708640532890431
         ]
        }
       ],
       "layout": {
        "legend": {
         "title": {
          "text": "model"
         },
         "tracegroupgap": 0
        },
        "margin": {
         "t": 60
        },
        "scene": {
         "domain": {
          "x": [
           0,
           1
          ],
          "y": [
           0,
           1
          ]
         },
         "xaxis": {
          "title": {
           "text": "pca1"
          }
         },
         "yaxis": {
          "title": {
           "text": "pca2"
          }
         },
         "zaxis": {
          "title": {
           "text": "pca3"
          }
         }
        },
        "template": {
         "data": {
          "bar": [
           {
            "error_x": {
             "color": "#2a3f5f"
            },
            "error_y": {
             "color": "#2a3f5f"
            },
            "marker": {
             "line": {
              "color": "#E5ECF6",
              "width": 0.5
             },
             "pattern": {
              "fillmode": "overlay",
              "size": 10,
              "solidity": 0.2
             }
            },
            "type": "bar"
           }
          ],
          "barpolar": [
           {
            "marker": {
             "line": {
              "color": "#E5ECF6",
              "width": 0.5
             },
             "pattern": {
              "fillmode": "overlay",
              "size": 10,
              "solidity": 0.2
             }
            },
            "type": "barpolar"
           }
          ],
          "carpet": [
           {
            "aaxis": {
             "endlinecolor": "#2a3f5f",
             "gridcolor": "white",
             "linecolor": "white",
             "minorgridcolor": "white",
             "startlinecolor": "#2a3f5f"
            },
            "baxis": {
             "endlinecolor": "#2a3f5f",
             "gridcolor": "white",
             "linecolor": "white",
             "minorgridcolor": "white",
             "startlinecolor": "#2a3f5f"
            },
            "type": "carpet"
           }
          ],
          "choropleth": [
           {
            "colorbar": {
             "outlinewidth": 0,
             "ticks": ""
            },
            "type": "choropleth"
           }
          ],
          "contour": [
           {
            "colorbar": {
             "outlinewidth": 0,
             "ticks": ""
            },
            "colorscale": [
             [
              0,
              "#0d0887"
             ],
             [
              0.1111111111111111,
              "#46039f"
             ],
             [
              0.2222222222222222,
              "#7201a8"
             ],
             [
              0.3333333333333333,
              "#9c179e"
             ],
             [
              0.4444444444444444,
              "#bd3786"
             ],
             [
              0.5555555555555556,
              "#d8576b"
             ],
             [
              0.6666666666666666,
              "#ed7953"
             ],
             [
              0.7777777777777778,
              "#fb9f3a"
             ],
             [
              0.8888888888888888,
              "#fdca26"
             ],
             [
              1,
              "#f0f921"
             ]
            ],
            "type": "contour"
           }
          ],
          "contourcarpet": [
           {
            "colorbar": {
             "outlinewidth": 0,
             "ticks": ""
            },
            "type": "contourcarpet"
           }
          ],
          "heatmap": [
           {
            "colorbar": {
             "outlinewidth": 0,
             "ticks": ""
            },
            "colorscale": [
             [
              0,
              "#0d0887"
             ],
             [
              0.1111111111111111,
              "#46039f"
             ],
             [
              0.2222222222222222,
              "#7201a8"
             ],
             [
              0.3333333333333333,
              "#9c179e"
             ],
             [
              0.4444444444444444,
              "#bd3786"
             ],
             [
              0.5555555555555556,
              "#d8576b"
             ],
             [
              0.6666666666666666,
              "#ed7953"
             ],
             [
              0.7777777777777778,
              "#fb9f3a"
             ],
             [
              0.8888888888888888,
              "#fdca26"
             ],
             [
              1,
              "#f0f921"
             ]
            ],
            "type": "heatmap"
           }
          ],
          "heatmapgl": [
           {
            "colorbar": {
             "outlinewidth": 0,
             "ticks": ""
            },
            "colorscale": [
             [
              0,
              "#0d0887"
             ],
             [
              0.1111111111111111,
              "#46039f"
             ],
             [
              0.2222222222222222,
              "#7201a8"
             ],
             [
              0.3333333333333333,
              "#9c179e"
             ],
             [
              0.4444444444444444,
              "#bd3786"
             ],
             [
              0.5555555555555556,
              "#d8576b"
             ],
             [
              0.6666666666666666,
              "#ed7953"
             ],
             [
              0.7777777777777778,
              "#fb9f3a"
             ],
             [
              0.8888888888888888,
              "#fdca26"
             ],
             [
              1,
              "#f0f921"
             ]
            ],
            "type": "heatmapgl"
           }
          ],
          "histogram": [
           {
            "marker": {
             "pattern": {
              "fillmode": "overlay",
              "size": 10,
              "solidity": 0.2
             }
            },
            "type": "histogram"
           }
          ],
          "histogram2d": [
           {
            "colorbar": {
             "outlinewidth": 0,
             "ticks": ""
            },
            "colorscale": [
             [
              0,
              "#0d0887"
             ],
             [
              0.1111111111111111,
              "#46039f"
             ],
             [
              0.2222222222222222,
              "#7201a8"
             ],
             [
              0.3333333333333333,
              "#9c179e"
             ],
             [
              0.4444444444444444,
              "#bd3786"
             ],
             [
              0.5555555555555556,
              "#d8576b"
             ],
             [
              0.6666666666666666,
              "#ed7953"
             ],
             [
              0.7777777777777778,
              "#fb9f3a"
             ],
             [
              0.8888888888888888,
              "#fdca26"
             ],
             [
              1,
              "#f0f921"
             ]
            ],
            "type": "histogram2d"
           }
          ],
          "histogram2dcontour": [
           {
            "colorbar": {
             "outlinewidth": 0,
             "ticks": ""
            },
            "colorscale": [
             [
              0,
              "#0d0887"
             ],
             [
              0.1111111111111111,
              "#46039f"
             ],
             [
              0.2222222222222222,
              "#7201a8"
             ],
             [
              0.3333333333333333,
              "#9c179e"
             ],
             [
              0.4444444444444444,
              "#bd3786"
             ],
             [
              0.5555555555555556,
              "#d8576b"
             ],
             [
              0.6666666666666666,
              "#ed7953"
             ],
             [
              0.7777777777777778,
              "#fb9f3a"
             ],
             [
              0.8888888888888888,
              "#fdca26"
             ],
             [
              1,
              "#f0f921"
             ]
            ],
            "type": "histogram2dcontour"
           }
          ],
          "mesh3d": [
           {
            "colorbar": {
             "outlinewidth": 0,
             "ticks": ""
            },
            "type": "mesh3d"
           }
          ],
          "parcoords": [
           {
            "line": {
             "colorbar": {
              "outlinewidth": 0,
              "ticks": ""
             }
            },
            "type": "parcoords"
           }
          ],
          "pie": [
           {
            "automargin": true,
            "type": "pie"
           }
          ],
          "scatter": [
           {
            "marker": {
             "colorbar": {
              "outlinewidth": 0,
              "ticks": ""
             }
            },
            "type": "scatter"
           }
          ],
          "scatter3d": [
           {
            "line": {
             "colorbar": {
              "outlinewidth": 0,
              "ticks": ""
             }
            },
            "marker": {
             "colorbar": {
              "outlinewidth": 0,
              "ticks": ""
             }
            },
            "type": "scatter3d"
           }
          ],
          "scattercarpet": [
           {
            "marker": {
             "colorbar": {
              "outlinewidth": 0,
              "ticks": ""
             }
            },
            "type": "scattercarpet"
           }
          ],
          "scattergeo": [
           {
            "marker": {
             "colorbar": {
              "outlinewidth": 0,
              "ticks": ""
             }
            },
            "type": "scattergeo"
           }
          ],
          "scattergl": [
           {
            "marker": {
             "colorbar": {
              "outlinewidth": 0,
              "ticks": ""
             }
            },
            "type": "scattergl"
           }
          ],
          "scattermapbox": [
           {
            "marker": {
             "colorbar": {
              "outlinewidth": 0,
              "ticks": ""
             }
            },
            "type": "scattermapbox"
           }
          ],
          "scatterpolar": [
           {
            "marker": {
             "colorbar": {
              "outlinewidth": 0,
              "ticks": ""
             }
            },
            "type": "scatterpolar"
           }
          ],
          "scatterpolargl": [
           {
            "marker": {
             "colorbar": {
              "outlinewidth": 0,
              "ticks": ""
             }
            },
            "type": "scatterpolargl"
           }
          ],
          "scatterternary": [
           {
            "marker": {
             "colorbar": {
              "outlinewidth": 0,
              "ticks": ""
             }
            },
            "type": "scatterternary"
           }
          ],
          "surface": [
           {
            "colorbar": {
             "outlinewidth": 0,
             "ticks": ""
            },
            "colorscale": [
             [
              0,
              "#0d0887"
             ],
             [
              0.1111111111111111,
              "#46039f"
             ],
             [
              0.2222222222222222,
              "#7201a8"
             ],
             [
              0.3333333333333333,
              "#9c179e"
             ],
             [
              0.4444444444444444,
              "#bd3786"
             ],
             [
              0.5555555555555556,
              "#d8576b"
             ],
             [
              0.6666666666666666,
              "#ed7953"
             ],
             [
              0.7777777777777778,
              "#fb9f3a"
             ],
             [
              0.8888888888888888,
              "#fdca26"
             ],
             [
              1,
              "#f0f921"
             ]
            ],
            "type": "surface"
           }
          ],
          "table": [
           {
            "cells": {
             "fill": {
              "color": "#EBF0F8"
             },
             "line": {
              "color": "white"
             }
            },
            "header": {
             "fill": {
              "color": "#C8D4E3"
             },
             "line": {
              "color": "white"
             }
            },
            "type": "table"
           }
          ]
         },
         "layout": {
          "annotationdefaults": {
           "arrowcolor": "#2a3f5f",
           "arrowhead": 0,
           "arrowwidth": 1
          },
          "autotypenumbers": "strict",
          "coloraxis": {
           "colorbar": {
            "outlinewidth": 0,
            "ticks": ""
           }
          },
          "colorscale": {
           "diverging": [
            [
             0,
             "#8e0152"
            ],
            [
             0.1,
             "#c51b7d"
            ],
            [
             0.2,
             "#de77ae"
            ],
            [
             0.3,
             "#f1b6da"
            ],
            [
             0.4,
             "#fde0ef"
            ],
            [
             0.5,
             "#f7f7f7"
            ],
            [
             0.6,
             "#e6f5d0"
            ],
            [
             0.7,
             "#b8e186"
            ],
            [
             0.8,
             "#7fbc41"
            ],
            [
             0.9,
             "#4d9221"
            ],
            [
             1,
             "#276419"
            ]
           ],
           "sequential": [
            [
             0,
             "#0d0887"
            ],
            [
             0.1111111111111111,
             "#46039f"
            ],
            [
             0.2222222222222222,
             "#7201a8"
            ],
            [
             0.3333333333333333,
             "#9c179e"
            ],
            [
             0.4444444444444444,
             "#bd3786"
            ],
            [
             0.5555555555555556,
             "#d8576b"
            ],
            [
             0.6666666666666666,
             "#ed7953"
            ],
            [
             0.7777777777777778,
             "#fb9f3a"
            ],
            [
             0.8888888888888888,
             "#fdca26"
            ],
            [
             1,
             "#f0f921"
            ]
           ],
           "sequentialminus": [
            [
             0,
             "#0d0887"
            ],
            [
             0.1111111111111111,
             "#46039f"
            ],
            [
             0.2222222222222222,
             "#7201a8"
            ],
            [
             0.3333333333333333,
             "#9c179e"
            ],
            [
             0.4444444444444444,
             "#bd3786"
            ],
            [
             0.5555555555555556,
             "#d8576b"
            ],
            [
             0.6666666666666666,
             "#ed7953"
            ],
            [
             0.7777777777777778,
             "#fb9f3a"
            ],
            [
             0.8888888888888888,
             "#fdca26"
            ],
            [
             1,
             "#f0f921"
            ]
           ]
          },
          "colorway": [
           "#636efa",
           "#EF553B",
           "#00cc96",
           "#ab63fa",
           "#FFA15A",
           "#19d3f3",
           "#FF6692",
           "#B6E880",
           "#FF97FF",
           "#FECB52"
          ],
          "font": {
           "color": "#2a3f5f"
          },
          "geo": {
           "bgcolor": "white",
           "lakecolor": "white",
           "landcolor": "#E5ECF6",
           "showlakes": true,
           "showland": true,
           "subunitcolor": "white"
          },
          "hoverlabel": {
           "align": "left"
          },
          "hovermode": "closest",
          "mapbox": {
           "style": "light"
          },
          "paper_bgcolor": "white",
          "plot_bgcolor": "#E5ECF6",
          "polar": {
           "angularaxis": {
            "gridcolor": "white",
            "linecolor": "white",
            "ticks": ""
           },
           "bgcolor": "#E5ECF6",
           "radialaxis": {
            "gridcolor": "white",
            "linecolor": "white",
            "ticks": ""
           }
          },
          "scene": {
           "xaxis": {
            "backgroundcolor": "#E5ECF6",
            "gridcolor": "white",
            "gridwidth": 2,
            "linecolor": "white",
            "showbackground": true,
            "ticks": "",
            "zerolinecolor": "white"
           },
           "yaxis": {
            "backgroundcolor": "#E5ECF6",
            "gridcolor": "white",
            "gridwidth": 2,
            "linecolor": "white",
            "showbackground": true,
            "ticks": "",
            "zerolinecolor": "white"
           },
           "zaxis": {
            "backgroundcolor": "#E5ECF6",
            "gridcolor": "white",
            "gridwidth": 2,
            "linecolor": "white",
            "showbackground": true,
            "ticks": "",
            "zerolinecolor": "white"
           }
          },
          "shapedefaults": {
           "line": {
            "color": "#2a3f5f"
           }
          },
          "ternary": {
           "aaxis": {
            "gridcolor": "white",
            "linecolor": "white",
            "ticks": ""
           },
           "baxis": {
            "gridcolor": "white",
            "linecolor": "white",
            "ticks": ""
           },
           "bgcolor": "#E5ECF6",
           "caxis": {
            "gridcolor": "white",
            "linecolor": "white",
            "ticks": ""
           }
          },
          "title": {
           "x": 0.05
          },
          "xaxis": {
           "automargin": true,
           "gridcolor": "white",
           "linecolor": "white",
           "ticks": "",
           "title": {
            "standoff": 15
           },
           "zerolinecolor": "white",
           "zerolinewidth": 2
          },
          "yaxis": {
           "automargin": true,
           "gridcolor": "white",
           "linecolor": "white",
           "ticks": "",
           "title": {
            "standoff": 15
           },
           "zerolinecolor": "white",
           "zerolinewidth": 2
          }
         }
        }
       }
      }
     },
     "metadata": {},
     "output_type": "display_data"
    }
   ],
   "source": [
    "# Plot Learned Concepts Embedding (LCE)\n",
    "\n",
    "# Imports\n",
    "import plotly.express as px\n",
    "\n",
    "fig = px.scatter_3d(components, x='pca1', y='pca2', z='pca3', color=\"model\")\n",
    "fig.show()"
   ]
  },
  {
   "cell_type": "code",
   "execution_count": 7,
   "metadata": {},
   "outputs": [
    {
     "data": {
      "image/png": "[encoded data removed]",
      "text/plain": [
       "<Figure size 648x288 with 2 Axes>"
      ]
     },
     "metadata": {
      "needs_background": "light"
     },
     "output_type": "display_data"
    }
   ],
   "source": [
    "# Plot Learned Concepts Embedding (LCE)\n",
    "\n",
    "# Imports \n",
    "from matplotlib.gridspec import GridSpec\n",
    "\n",
    "# Pre-define some plotting paramaeters\n",
    "\n",
    "plt.rcParams[\"axes.grid\"] = True\n",
    "markers = ['v', 'p', 'd', '<', 'P', '>', '<', '+', '.', '+', 'o', '>', '>', 'p', '>', 'v', '^', 'v', '*', 'D']\n",
    "colors = ['darkslategrey', 'mediumorchid', 'mediumblue', 'mediumspringgreen',\n",
    "       'darkseagreen', 'darkolivegreen', 'mediumseagreen', 'darkcyan',\n",
    "       'darkviolet', 'mediumvioletred', 'darksalmon', 'darkgoldenrod',\n",
    "       'darkgreen', 'darkgrey', 'mediumaquamarine', 'darkblue',\n",
    "       'darkslateblue', 'darkorange', 'darkgray', 'darkorchid']\n",
    "\n",
    "fig = plt.figure(figsize=(9, 4))\n",
    "gs = GridSpec(1,3, fig)\n",
    "\n",
    "# Plot first and second componenets scatter plot\n",
    "ax1 = fig.add_subplot(gs[0,:2])\n",
    "ax1.set_ylabel(\"Second component\")\n",
    "ax1.set_xlabel(\"First component\")\n",
    "for x, y, l, marker, color in zip(pca1, pca2, [l for l in f_s_data.index ], markers, colors):\n",
    "  ax1.scatter(x, y, label=l, marker=marker, color=color, s=75)\n",
    "ax1.axvspan(-3, 6,  alpha=0.075, color=\"red\", ymin=-1, ymax=0.45)\n",
    "ax1.axhspan(-2, 3,  alpha=0.075, color=\"green\", xmin=-1, xmax=0.42)\n",
    "ax1.annotate( \"Low Features Redundancy\", (1, -0.6), xytext=(2, -0.5), bbox={\"boxstyle\":\"round\", \"fc\":\"1\"}, size=8,)\n",
    "ax1.annotate( \"High Features Redundancy\",  (1, -0.6), xytext=(-2, 0.1), bbox={\"boxstyle\":\"round\", \"fc\":\"1\"}, size=8, rotation=90)\n",
    "ax1.set_xlim((-2.7, 5.2))\n",
    "ax1.set_ylim((-1.5, 2.2))\n",
    "\n",
    "# Plot third component scatter plot\n",
    "ax2 =  fig.add_subplot(gs[0,2])\n",
    "ax2.set_xlabel(\"Third component\")\n",
    "for x, y, l, marker, color in zip(pca3, pca2, [l for l in f_s_data.index], markers, colors):\n",
    "  ax2.scatter(x, y, label=l, marker=marker, color=color, s=75)\n",
    "ax2.set_yticklabels([])\n",
    "ax2.set_xticks(range(-2, 2, 1))\n",
    "\n",
    "fig.tight_layout(pad=0.2)\n",
    "plt.legend(loc=\"upper right\", bbox_to_anchor=(1.8, 0.98))\n",
    "plt.suptitle(\"Visual Features Embedding of Models \\n Based On Concepts Found By Dissect\", position=(0.65,1.11))\n",
    "plt.show()"
   ]
  },
  {
   "cell_type": "code",
   "execution_count": 9,
   "metadata": {},
   "outputs": [
    {
     "data": {
      "image/png": "[encoded data removed]",
      "text/plain": [
       "<Figure size 1800x360 with 1 Axes>"
      ]
     },
     "metadata": {
      "needs_background": "light"
     },
     "output_type": "display_data"
    }
   ],
   "source": [
    "# Plot Learned Concepts Embedding (LCE) PCA Components\n",
    "\n",
    "# Imports \n",
    "from pandas.plotting import parallel_coordinates\n",
    "\n",
    "# Componenets Coefficients as Dataframe\n",
    "comps = pd.DataFrame([pca.components_[0], pca.components_[1], pca.components_[2]],\n",
    "                     columns= [c.replace(\"o_\",\"\").replace(\"c_\",\"\").replace(\"m_\",\"\").replace(\"p_\",\"\") for c in f_s_data.columns])\n",
    "comps[\"class\"] = [\"First Principal Component\", \"Second Principal Componnet\", \"Third Principal Componnet\"]\n",
    "\n",
    "# Make the plot \n",
    "plt.figure(figsize=(25,5))\n",
    "parallel_coordinates(comps, class_column=\"class\", color=[\"red\", \"green\", \"blue\"])\n",
    "plt.xticks(rotation=90)\n",
    "# Add shades\n",
    "plt.axvspan(0, 8, alpha=0.1, color=\"red\")\n",
    "plt.axvspan(8, 23,  alpha=0.1, color=\"blue\" )\n",
    "plt.axvspan(23, 92, alpha=0.1, color=\"green\")\n",
    "plt.axvspan(92, 144, alpha=0.1, color=\"magenta\")\n",
    "\n",
    "plt.title(\"The Detailed Composition Of The First Three Principal Components\")\n",
    "plt.show()"
   ]
  },
  {
   "cell_type": "code",
   "execution_count": null,
   "metadata": {},
   "outputs": [],
   "source": [
    "components_perf = components.merge(data[[\"model\", \"dt_ImageNet\"]], on=\"model\")\n",
    "components_perf = components_perf[components_perf[\"model\"]!=\"SeLaV1(R)\"]\n",
    "\n",
    "from sklearn.neighbors import KNeighborsRegressor\n",
    "clf = KNeighborsRegressor(5, weights='distance')\n",
    "clf.fit(components_perf[[\"pca1\", \"pca2\"]].values, components_perf[\"dt_ImageNet\"].values)\n",
    "\n",
    "x= np.arange(-3, 6, 0.2)\n",
    "y=  np.arange(-3, 6, 0.2)\n",
    "X, Y = np.meshgrid(x, y)\n",
    "Z = clf.predict( np.stack([X.flatten(), Y.flatten()], axis=1) )\n",
    "Z = Z.reshape(len(x), len(y))\n",
    "plt.contourf(x, y, Z,  cmap=\"Reds\")\n",
    "plt.colorbar()\n",
    "\n",
    "for x, y, l, marker, color in zip(pca1, pca2, [l for l in components_perf[\"model\"] ], markers, colors):\n",
    "  plt.scatter(x, y, label=l, marker=marker, color=color)\n",
    "\n",
    "plt.legend(loc=\"upper right\", bbox_to_anchor=(1.8,1.02))\n",
    "plt.title(\"Semantic Space of models based on concepts found by Dissect \")\n",
    "plt.xlabel(\"pca.1\")\n",
    "plt.ylabel(\"pca.2\")\n",
    "plt.xlim((-3,5.5))\n",
    "plt.ylim((-1.3,2.8))\n",
    "\n",
    "plt.show()"
   ]
  }
 ],
 "metadata": {
  "interpreter": {
   "hash": "616f404dc14d2c18e7233472743441b98565821e13b8f621c62b9aa48e744ea4"
  },
  "kernelspec": {
   "display_name": "Python 3.9.5 64-bit ('venv': venv)",
   "name": "python3"
  },
  "language_info": {
   "codemirror_mode": {
    "name": "ipython",
    "version": 3
   },
   "file_extension": ".py",
   "mimetype": "text/x-python",
   "name": "python",
   "nbconvert_exporter": "python",
   "pygments_lexer": "ipython3",
   "version": "3.9.5"
  },
  "orig_nbformat": 4
 },
 "nbformat": 4,
 "nbformat_minor": 2
}
