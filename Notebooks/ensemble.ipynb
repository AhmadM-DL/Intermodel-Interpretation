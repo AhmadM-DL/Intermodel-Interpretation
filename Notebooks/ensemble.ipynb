{
 "cells": [
  {
   "cell_type": "code",
   "execution_count": null,
   "metadata": {},
   "outputs": [],
   "source": [
    "!git clone https://github.com/AhmadM-DL/Intermodel-Interpretation"
   ]
  },
  {
   "cell_type": "code",
   "execution_count": null,
   "metadata": {},
   "outputs": [],
   "source": [
    "%cd Intermodel-Interpretation/"
   ]
  },
  {
   "cell_type": "code",
   "execution_count": null,
   "metadata": {},
   "outputs": [],
   "source": [
    "import pandas as pd\n",
    "import numpy as np\n",
    "from Scripts.utilities import *"
   ]
  },
  {
   "cell_type": "markdown",
   "metadata": {},
   "source": [
    "# Load and Preprocess Data"
   ]
  },
  {
   "cell_type": "code",
   "execution_count": null,
   "metadata": {},
   "outputs": [],
   "source": [
    "# Load Perfomrance Data\n",
    "performance_data = pd.read_csv(\"./Data/models_performance_on_tasks.csv\")\n",
    "# Drop useless columns\n",
    "performance_data.drop([c for c in performance_data.columns if \"Unnamed\" in c], inplace=True, axis=1)\n",
    "performance_data.head()"
   ]
  },
  {
   "cell_type": "code",
   "execution_count": null,
   "metadata": {},
   "outputs": [],
   "source": [
    "\n",
    "# Load Dissect Profile Data\n",
    "raw_data = pd.read_csv(\"./Data/models_dissect_profiles_raw.csv\")\n",
    "dissect_profiles = get_dissect_profiles(raw_data)\n",
    "dissect_abstract_profiles = get_abstracted_dissect_profile(raw_data)"
   ]
  }
 ],
 "metadata": {
  "language_info": {
   "name": "plaintext"
  },
  "orig_nbformat": 4
 },
 "nbformat": 4,
 "nbformat_minor": 2
}
